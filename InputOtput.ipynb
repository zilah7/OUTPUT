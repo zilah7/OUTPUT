{
 "cells": [
  {
   "cell_type": "code",
   "execution_count": 1,
   "id": "b47887f4",
   "metadata": {},
   "outputs": [
    {
     "name": "stdout",
     "output_type": "stream",
     "text": [
      "isikan bilangan 1:6\n",
      "isikan bilangan 2:5\n",
      "hasil 6 + 5 = 11\n"
     ]
    }
   ],
   "source": [
    "bil1 = input('isikan bilangan 1:')\n",
    "bil2 = input('isikan bilangan 2:')\n",
    "hasil = int(bil1) + int(bil2)\n",
    "print(\"hasil\", bil1, \"+\", bil2, \"=\", hasil)"
   ]
  },
  {
   "cell_type": "markdown",
   "id": "d0a56f1e",
   "metadata": {},
   "source": [
    "Buatlah luas dan keliling persegi panjang"
   ]
  },
  {
   "cell_type": "code",
   "execution_count": 2,
   "id": "86b9abc5",
   "metadata": {},
   "outputs": [
    {
     "name": "stdout",
     "output_type": "stream",
     "text": [
      "masukan nilai panjang :20\n",
      "masukan nilai lebar :10\n",
      "luas 200\n",
      "keliling 400\n"
     ]
    }
   ],
   "source": [
    "panjang = input (\"masukan nilai panjang :\")\n",
    "lebar = input (\"masukan nilai lebar :\")\n",
    "\n",
    "luas = int(panjang) *int(lebar)\n",
    "keliling = 2 *(int(panjang)) * int(lebar)\n",
    "\n",
    "print(\"luas\", luas)\n",
    "print(\"keliling\", keliling)\n"
   ]
  },
  {
   "cell_type": "code",
   "execution_count": 3,
   "id": "f9b597aa",
   "metadata": {},
   "outputs": [
    {
     "name": "stdout",
     "output_type": "stream",
     "text": [
      "A@_@B@_@C@_@D\n"
     ]
    }
   ],
   "source": [
    "print (\"A\",\"B\",\"C\",\"D\", sep='@_@') #sep=seperator atau pembatas\n"
   ]
  },
  {
   "cell_type": "code",
   "execution_count": 4,
   "id": "a8506aca",
   "metadata": {},
   "outputs": [
    {
     "name": "stdout",
     "output_type": "stream",
     "text": [
      "A\n",
      "B\n",
      "C\n",
      "D^_^"
     ]
    }
   ],
   "source": [
    "print(\"A\",\"B\",\"C\",\"D\", sep='\\n',end=\"^_^\")"
   ]
  },
  {
   "cell_type": "code",
   "execution_count": 5,
   "id": "d5ae83f5",
   "metadata": {},
   "outputs": [
    {
     "name": "stdout",
     "output_type": "stream",
     "text": [
      "hasil dari 8 modulus 10 = 8\n"
     ]
    }
   ],
   "source": [
    "num_1 = 8\n",
    "num_2 = 10\n",
    "\n",
    "# Hasil dari 8 modulus  10 = 8\n",
    "#str.format()\n",
    "\n",
    "print('hasil dari {} modulus {} = {}'.format(num_1,num_2,num_1%num_2))\n"
   ]
  },
  {
   "cell_type": "code",
   "execution_count": 7,
   "id": "63c63f6d",
   "metadata": {},
   "outputs": [
    {
     "name": "stdout",
     "output_type": "stream",
     "text": [
      "Nama anda Siti Nazilah K.J\n"
     ]
    }
   ],
   "source": [
    "fname = \"Siti\"\n",
    "mname = \"Nazilah\"\n",
    "Iname = \"K.J\"\n",
    "\n",
    "print('Nama anda {0} {1} {2}'.format(fname,mname,Iname))"
   ]
  },
  {
   "cell_type": "code",
   "execution_count": 8,
   "id": "9950972c",
   "metadata": {},
   "outputs": [
    {
     "name": "stdout",
     "output_type": "stream",
     "text": [
      "Nama anda Nazilah, nilai anda95\n"
     ]
    }
   ],
   "source": [
    "print('Nama anda {nama}, nilai anda{nilai}'.format(nama='Nazilah',nilai=95))"
   ]
  },
  {
   "cell_type": "code",
   "execution_count": 12,
   "id": "f7660b08",
   "metadata": {},
   "outputs": [
    {
     "name": "stdout",
     "output_type": "stream",
     "text": [
      "karakter pertama : U\n",
      "karakter terakhir : a\n",
      "Universitas\n",
      "Putra\n",
      "Putra\n",
      "artuP asuN satisrevinU\n"
     ]
    }
   ],
   "source": [
    "univ = \"Universitas Nusa Putra\"\n",
    "\n",
    "print(\"karakter pertama :\",univ[0])\n",
    "print(\"karakter terakhir :\",univ[-1])\n",
    "#universitas\n",
    "print(univ[0:11])\n",
    "print(univ[-5:])\n",
    "print(univ[17:])\n",
    "print(univ[::-1])"
   ]
  },
  {
   "cell_type": "markdown",
   "id": "3d16b3c6",
   "metadata": {},
   "source": [
    "f string"
   ]
  },
  {
   "cell_type": "code",
   "execution_count": 14,
   "id": "8258dee3",
   "metadata": {},
   "outputs": [
    {
     "name": "stdout",
     "output_type": "stream",
     "text": [
      "Nama saya Siti Nazilah\n",
      "hasil penjumlahan 100 + 20 = 120\n"
     ]
    }
   ],
   "source": [
    "f_name = 'Siti'\n",
    "I_name = 'Nazilah'\n",
    "\n",
    "print(f'Nama saya {f_name} {I_name}')\n",
    "\n",
    "first = 100\n",
    "second = 20\n",
    "\n",
    "print(f'hasil penjumlahan {first} + {second} = {first+second}')"
   ]
  },
  {
   "cell_type": "markdown",
   "id": "485d2b85",
   "metadata": {},
   "source": [
    "split pada string"
   ]
  },
  {
   "cell_type": "code",
   "execution_count": 22,
   "id": "cb42b68d",
   "metadata": {},
   "outputs": [
    {
     "name": "stdout",
     "output_type": "stream",
     "text": [
      "['lala,lili,lulu']\n",
      "['lala', 'lili', 'lulu']\n",
      "lala@lili@lulu\n",
      "Masukan tanggal lahir :30/Juli/2004\n",
      "Masukan nama :Siti Nazilah K.J\n",
      "Output :\n",
      "Tgl : 30, Bulan:1, Tahun :2004\n",
      "Nama inisial : SN\n"
     ]
    }
   ],
   "source": [
    "nama = \"lala,lili,lulu\"\n",
    "nama2 = \"lala,lili,lulu\"\n",
    "#split -> memisahkan string berdasarkan karakter tertentu\n",
    "print(nama2.split())\n",
    "print(nama.split(','))\n",
    "\n",
    "#join ->menggabungkan string kedalam kumpilan karakter\n",
    "print('@'.join(nama.split(',')))\n",
    "\n",
    "#input tanggal lahir->30/juli/2004\n",
    "#input nama -> Siti Nazilah\n",
    "# output\n",
    "#tgl : 14, Bulan:Maret ,Tahun 2024\n",
    "#nama inisial : SN\n",
    "\n",
    "tgl = input (\"Masukan tanggal lahir :\")\n",
    "nama = input (\"Masukan nama :\")\n",
    "pemisah = tgl.split(\"/\")\n",
    "print(\"Output :\")\n",
    "print(f\"Tgl : {pemisah[0]}, Bulan:{1}, Tahun :{pemisah[2]}\")\n",
    "pemisah = nama.split()\n",
    "nama_pertama = pemisah[0]\n",
    "nama_terakhir = pemisah[1]\n",
    "print(f\"Nama inisial : {nama_pertama[0]+nama_terakhir[0]}\")"
   ]
  },
  {
   "cell_type": "code",
   "execution_count": null,
   "id": "126363bc",
   "metadata": {},
   "outputs": [],
   "source": []
  }
 ],
 "metadata": {
  "kernelspec": {
   "display_name": "Python 3 (ipykernel)",
   "language": "python",
   "name": "python3"
  },
  "language_info": {
   "codemirror_mode": {
    "name": "ipython",
    "version": 3
   },
   "file_extension": ".py",
   "mimetype": "text/x-python",
   "name": "python",
   "nbconvert_exporter": "python",
   "pygments_lexer": "ipython3",
   "version": "3.9.12"
  }
 },
 "nbformat": 4,
 "nbformat_minor": 5
}
